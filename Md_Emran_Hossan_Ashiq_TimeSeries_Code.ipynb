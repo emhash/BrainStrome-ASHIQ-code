{
 "cells": [
  {
   "cell_type": "code",
   "execution_count": 1,
   "metadata": {},
   "outputs": [],
   "source": [
    "import pandas as pd\n",
    "import numpy as numpy"
   ]
  },
  {
   "cell_type": "code",
   "execution_count": 2,
   "metadata": {},
   "outputs": [
    {
     "data": {
      "text/html": [
       "<div>\n",
       "<style scoped>\n",
       "    .dataframe tbody tr th:only-of-type {\n",
       "        vertical-align: middle;\n",
       "    }\n",
       "\n",
       "    .dataframe tbody tr th {\n",
       "        vertical-align: top;\n",
       "    }\n",
       "\n",
       "    .dataframe thead th {\n",
       "        text-align: right;\n",
       "    }\n",
       "</style>\n",
       "<table border=\"1\" class=\"dataframe\">\n",
       "  <thead>\n",
       "    <tr style=\"text-align: right;\">\n",
       "      <th></th>\n",
       "      <th>id</th>\n",
       "      <th>week</th>\n",
       "      <th>center_id</th>\n",
       "      <th>meal_id</th>\n",
       "      <th>checkout_price</th>\n",
       "      <th>base_price</th>\n",
       "      <th>emailer_for_promotion</th>\n",
       "      <th>homepage_featured</th>\n",
       "      <th>num_orders</th>\n",
       "    </tr>\n",
       "  </thead>\n",
       "  <tbody>\n",
       "    <tr>\n",
       "      <th>276758</th>\n",
       "      <td>1324956</td>\n",
       "      <td>91</td>\n",
       "      <td>83</td>\n",
       "      <td>1230</td>\n",
       "      <td>321.07</td>\n",
       "      <td>321.07</td>\n",
       "      <td>0</td>\n",
       "      <td>0</td>\n",
       "      <td>135</td>\n",
       "    </tr>\n",
       "    <tr>\n",
       "      <th>412574</th>\n",
       "      <td>1020935</td>\n",
       "      <td>132</td>\n",
       "      <td>113</td>\n",
       "      <td>1558</td>\n",
       "      <td>540.29</td>\n",
       "      <td>659.63</td>\n",
       "      <td>0</td>\n",
       "      <td>0</td>\n",
       "      <td>243</td>\n",
       "    </tr>\n",
       "    <tr>\n",
       "      <th>430045</th>\n",
       "      <td>1491214</td>\n",
       "      <td>137</td>\n",
       "      <td>132</td>\n",
       "      <td>1438</td>\n",
       "      <td>194.00</td>\n",
       "      <td>196.00</td>\n",
       "      <td>0</td>\n",
       "      <td>0</td>\n",
       "      <td>149</td>\n",
       "    </tr>\n",
       "    <tr>\n",
       "      <th>92221</th>\n",
       "      <td>1334385</td>\n",
       "      <td>32</td>\n",
       "      <td>50</td>\n",
       "      <td>1216</td>\n",
       "      <td>416.13</td>\n",
       "      <td>418.13</td>\n",
       "      <td>0</td>\n",
       "      <td>0</td>\n",
       "      <td>108</td>\n",
       "    </tr>\n",
       "  </tbody>\n",
       "</table>\n",
       "</div>"
      ],
      "text/plain": [
       "             id  week  center_id  meal_id  checkout_price  base_price  \\\n",
       "276758  1324956    91         83     1230          321.07      321.07   \n",
       "412574  1020935   132        113     1558          540.29      659.63   \n",
       "430045  1491214   137        132     1438          194.00      196.00   \n",
       "92221   1334385    32         50     1216          416.13      418.13   \n",
       "\n",
       "        emailer_for_promotion  homepage_featured  num_orders  \n",
       "276758                      0                  0         135  \n",
       "412574                      0                  0         243  \n",
       "430045                      0                  0         149  \n",
       "92221                       0                  0         108  "
      ]
     },
     "execution_count": 2,
     "metadata": {},
     "output_type": "execute_result"
    }
   ],
   "source": [
    "df = pd.read_csv('train.csv')\n",
    "df.sample(4)"
   ]
  },
  {
   "cell_type": "code",
   "execution_count": null,
   "metadata": {},
   "outputs": [],
   "source": []
  }
 ],
 "metadata": {
  "kernelspec": {
   "display_name": "Python 3",
   "language": "python",
   "name": "python3"
  },
  "language_info": {
   "codemirror_mode": {
    "name": "ipython",
    "version": 3
   },
   "file_extension": ".py",
   "mimetype": "text/x-python",
   "name": "python",
   "nbconvert_exporter": "python",
   "pygments_lexer": "ipython3",
   "version": "3.12.1"
  }
 },
 "nbformat": 4,
 "nbformat_minor": 2
}
